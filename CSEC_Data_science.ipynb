{
  "nbformat": 4,
  "nbformat_minor": 0,
  "metadata": {
    "colab": {
      "provenance": [],
      "authorship_tag": "ABX9TyMiNfZATcf630pOgGdkYIZx",
      "include_colab_link": true
    },
    "kernelspec": {
      "name": "python3",
      "display_name": "Python 3"
    },
    "language_info": {
      "name": "python"
    }
  },
  "cells": [
    {
      "cell_type": "markdown",
      "metadata": {
        "id": "view-in-github",
        "colab_type": "text"
      },
      "source": [
        "<a href=\"https://colab.research.google.com/github/bekambirhanu/CSEC_Data_science/blob/main/CSEC_Data_science.ipynb\" target=\"_parent\"><img src=\"https://colab.research.google.com/assets/colab-badge.svg\" alt=\"Open In Colab\"/></a>"
      ]
    },
    {
      "cell_type": "markdown",
      "source": [
        "1.\n",
        "\n",
        "**List** -> a non-primitive data type that stores multiple data of the same type.\n",
        "Examples:   [1, 2, 4, 5]\n",
        "            [\"apple\", \"mango\"] etc\n",
        " **Dictionary** -> a non-primitive datatype that stores data in the form of key-value pair\n",
        "\n",
        " **NumPy array** -> is an array of the data of the same type. unlike list,\n",
        " numpy array ;-\n",
        "\n",
        "*   uses fixed type (each index in array are of the same predefined dtype like: int32, float64 ...)\n",
        "*   has a contiguous memory -> all indexs in the array are next to each other.\n",
        "\n",
        "all the above  characteristics makes it different from list in terms of time efficiency(since it has a predefined dtype, there when it comes to iteration doesn't need to check for the datatype. meking it faster) and space efficiency\n",
        "\n",
        "\n",
        "\n"
      ],
      "metadata": {
        "id": "TUPC3dxD4EEA"
      }
    },
    {
      "cell_type": "code",
      "execution_count": null,
      "metadata": {
        "colab": {
          "base_uri": "https://localhost:8080/"
        },
        "id": "8JQlms3M4BaA",
        "outputId": "a577b858-5c5e-4dc0-9ddd-d554c9f116d0"
      },
      "outputs": [
        {
          "output_type": "stream",
          "name": "stdout",
          "text": [
            "[100  15 400  25 900]\n"
          ]
        }
      ],
      "source": [
        "#2.\n",
        "import numpy as np\n",
        "\n",
        "def transform(lst: list):\n",
        "\n",
        "  arr = np.array(lst)\n",
        "\n",
        "  condition = (arr%2 == 0)\n",
        "\n",
        "  result = np.where(condition, arr**2, arr)\n",
        "  return result\n",
        "\n",
        "\n",
        "arr = [10, 15, 20, 25, 30]\n",
        "\n",
        "print(transform(arr))"
      ]
    },
    {
      "cell_type": "markdown",
      "source": [
        "3.\n",
        "\n",
        "the output is >> [1, 2, 3, 4]\n",
        "\n",
        "inlike numpy, when y = x is executed, y references to x which references to the list [1, 2, 3]. since both x and y share the same list, modifying y by appending 4 in to it modifies x too.\n",
        "\n",
        "but when using numpy, it does not modify an existing array. instead creates a new array\n",
        "\n",
        "lets take an example:"
      ],
      "metadata": {
        "id": "sObvo_MbFDYn"
      }
    },
    {
      "cell_type": "code",
      "source": [
        "import numpy as np\n",
        "\n",
        "x = np.array([1, 2, 3])\n",
        "y = x\n",
        "y = np.append(y,4)\n",
        "\n",
        "print(x) # outputs [1, 2, 3]"
      ],
      "metadata": {
        "colab": {
          "base_uri": "https://localhost:8080/"
        },
        "id": "QXkJXai3KfiX",
        "outputId": "052fdf6c-824d-4a2d-bd39-7fb7ae7b5d65"
      },
      "execution_count": null,
      "outputs": [
        {
          "output_type": "stream",
          "name": "stdout",
          "text": [
            "[1 2 3]\n"
          ]
        }
      ]
    },
    {
      "cell_type": "markdown",
      "source": [
        "4.\n",
        "\n",
        "**shape** is an attribute in pandas DataFrame class that tells about the arrays` dimentions in form of tuple (column, row) while,\n",
        "\n",
        "**describe()** is a method that tells about the data's statistics like mean, max, min, std(standard deviation), percentiles and count.\n",
        "\n",
        "in the example below there is a data 'raw_data' that tells the the population of different animals found in 3 different districts (d0, d1, d2)"
      ],
      "metadata": {
        "id": "kZ-6zIJyMl8Y"
      }
    },
    {
      "cell_type": "code",
      "source": [
        "import pandas as pd\n",
        "\n",
        "raw_data = {'cat': [2, 4, 5], 'dog': [7, 10, 1], 'rabbits': [8, 3, 9]}\n",
        "\n",
        "\n",
        "data = pd.DataFrame(raw_data)\n",
        "\n",
        "print(data.shape)\n",
        "print()\n",
        "print(data.describe())"
      ],
      "metadata": {
        "colab": {
          "base_uri": "https://localhost:8080/"
        },
        "id": "GBclR8kpMJ4-",
        "outputId": "6c40ef6e-bb97-491b-bc84-160da70b0674"
      },
      "execution_count": null,
      "outputs": [
        {
          "output_type": "stream",
          "name": "stdout",
          "text": [
            "(3, 3)\n",
            "\n",
            "            cat        dog   rabbits\n",
            "count  3.000000   3.000000  3.000000\n",
            "mean   3.666667   6.000000  6.666667\n",
            "std    1.527525   4.582576  3.214550\n",
            "min    2.000000   1.000000  3.000000\n",
            "25%    3.000000   4.000000  5.500000\n",
            "50%    4.000000   7.000000  8.000000\n",
            "75%    4.500000   8.500000  8.500000\n",
            "max    5.000000  10.000000  9.000000\n"
          ]
        }
      ]
    },
    {
      "cell_type": "markdown",
      "source": [
        "5.\n",
        "\n",
        "**Month** | **\"1958\"** | **\"1959\"** | **\"1960\"**\n",
        "--------|--------|--------|--------|\n",
        "JAN | 340 | 360 | 417 |\n",
        "--------|--------|--------|--------|\n",
        "FEB | 318 | 342 | 391 |\n",
        "--------|--------|--------|--------|\n",
        "MAR | 362 | 406 | 419 |\n",
        "--------|--------|--------|--------|\n",
        "APR | 348 | 396 | 461 |\n",
        "--------|--------|--------|--------|\n",
        "MAY | 363 | 420 | 472 |\n",
        "\n",
        "Things i noticed about this data are:\n",
        "\n",
        "*    the data shows an inconsistent increasing rate of growth of number of air travel month over month and year over year\n",
        "\n",
        "*    the lowest number of air travel is 318 in FEB 1958 and the higest is 472 in MAY 1960\n",
        "\n",
        "*    it increases in those three consecutive years of the same month.\n",
        "for example, in the first month of the 3 years the number of air travel increases as the year goes by\n",
        "\n",
        "*    most of the highest number of air travels registered in those consecutive years are in the later months rather than the earliests. this implies that the number of air travel also increases in each year as the month goes by eventhough it is not consistently increasing\n",
        "\n",
        "*    the rate of growth also increases in most of the month year to year"
      ],
      "metadata": {
        "id": "E3z4ux6RMTFi"
      }
    },
    {
      "cell_type": "markdown",
      "source": [
        "6.\n",
        "\n",
        "* The month with the highest total passengers registered is JULY in 1960 having 622 flights as the CSV shows\n",
        "\n",
        "* The month with the lowest total passengers in the year 1958 is NOVEMBER having 310 flights as the CSV shows"
      ],
      "metadata": {
        "id": "EdFW2QOHctRO"
      }
    },
    {
      "cell_type": "markdown",
      "source": [
        "7.\n",
        "\n",
        "The **.groupby()** method uses to group large amounts of data based on a given criterias and computes operations on those groups.\n",
        "this method works by spliting the object, applying a function and combining the result.\n",
        "\n",
        "**parameters**\n",
        "\n",
        "by - it determines the groups for the object. It can be a function (the function is called in each value of the object), a dict,a list or ndarray.\n",
        "\n",
        "axis - it splits the group along rows or columns(delfault to 0)\n",
        "\n",
        "level - to groupby the object by a particular levels. it can be an int or asequence of level names\n",
        "\n",
        "as_index - returns object with group labels as the index. (default to True)\n",
        "\n",
        "sort - sorts the gruops` keys. if False, it appears in the same order as the original object. (defaults to True)\n",
        "\n",
        "group_keys - it controls whether to include the group keys in the result when using methods like apply(), transform(), or filter(). (defaults to True)\n",
        "\n",
        "dropna - if group keys contain NA values, the NA values with the row or column will be dropped. if False, NA values will be treated as keys. (defaults to True)\n",
        "\n",
        "observed - if True, only show observed values for categorical groupers. (defaults to False)\n",
        "\n",
        "lets demonstrate this by an example using a dummy data about different house pet speed."
      ],
      "metadata": {
        "id": "ouwmXpALgV1T"
      }
    },
    {
      "cell_type": "code",
      "source": [
        "import pandas as pd\n",
        "\n",
        "data = {'Pet': ['dog', 'dog', 'cat', 'cat', 'rabbit', 'rabbit', 'hamster', 'hamster'],\n",
        "        'Max-speed(kph)': [72, 25, 48, 30, 55, 20, 10, 8],\n",
        "        'Legs': [4, 4, 4, 4, 4, 4, 4, 4]}\n",
        "\n",
        "df = pd.DataFrame(data)\n",
        "\n",
        "print(df)\n",
        "print()\n",
        "# to find the average maximum speed for each pet of the same breed\n",
        "\n",
        "df_max_speed = df.groupby(by='Pet')['Max-speed(kph)'].mean()\n",
        "\n",
        "print(df_max_speed)\n",
        "\n"
      ],
      "metadata": {
        "colab": {
          "base_uri": "https://localhost:8080/"
        },
        "id": "0xESKpuEsBua",
        "outputId": "bac9513a-ce08-4326-a226-58021af00585"
      },
      "execution_count": null,
      "outputs": [
        {
          "output_type": "stream",
          "name": "stdout",
          "text": [
            "       Pet  Max-speed(kph)  Legs\n",
            "0      dog              72     4\n",
            "1      dog              25     4\n",
            "2      cat              48     4\n",
            "3      cat              30     4\n",
            "4   rabbit              55     4\n",
            "5   rabbit              20     4\n",
            "6  hamster              10     4\n",
            "7  hamster               8     4\n",
            "\n",
            "Pet\n",
            "cat        39.0\n",
            "dog        48.5\n",
            "hamster     9.0\n",
            "rabbit     37.5\n",
            "Name: Max-speed(kph), dtype: float64\n"
          ]
        }
      ]
    },
    {
      "cell_type": "code",
      "source": [
        "# transpose the DataFrame to demonstrate column grouping using axis param\n",
        "\n",
        "df_transposed = df.set_index('Pet').T\n",
        "\n",
        "print(df_transposed)\n",
        "print()\n",
        "\n",
        "result = df_transposed.groupby(by=df_transposed.columns, axis=1).sum()\n",
        "print(result)"
      ],
      "metadata": {
        "colab": {
          "base_uri": "https://localhost:8080/"
        },
        "id": "f9EMlooHwS-U",
        "outputId": "b2e66726-f281-49c2-d28b-8e97c537f093"
      },
      "execution_count": null,
      "outputs": [
        {
          "output_type": "stream",
          "name": "stdout",
          "text": [
            "Pet             dog  dog  cat  cat  rabbit  rabbit  hamster  hamster\n",
            "Max-speed(kph)   72   25   48   30      55      20       10        8\n",
            "Legs              4    4    4    4       4       4        4        4\n",
            "\n",
            "Pet             cat  dog  hamster  rabbit\n",
            "Max-speed(kph)   78   97       18      75\n",
            "Legs              8    8        8       8\n"
          ]
        },
        {
          "output_type": "stream",
          "name": "stderr",
          "text": [
            "<ipython-input-16-65f02f80a93e>:8: FutureWarning: DataFrame.groupby with axis=1 is deprecated. Do `frame.T.groupby(...)` without axis instead.\n",
            "  result = df_transposed.groupby(by=df_transposed.columns, axis=1).sum()\n"
          ]
        }
      ]
    },
    {
      "cell_type": "code",
      "source": [
        "# to convert 'Pet' to categorical with unused categories\n",
        "data = {\n",
        "    'Pet': pd.Categorical(['Dog', 'Dog', 'Cat', 'Cat', 'Rabbit', 'Rabbit', 'Hamster', 'Hamster'],\n",
        "                         categories=['Dog', 'Cat', 'Rabbit', 'Hamster', 'Horse']),\n",
        "    'Max_Speed_kmh': [72, 25, 48, 30, 55, 20, 10, 8],\n",
        "    'Legs': [4, 4, 4, 4, 4, 4, 4, 4]\n",
        "}\n",
        "df = pd.DataFrame(data)\n",
        "print(df)\n",
        "print()\n",
        "# Demonstrate observed=False (default) vs observed=True\n",
        "\n",
        "print(\"Categories with observed=False (default):\", df['Pet'].cat.categories)\n",
        "#Includes all categories, even empty ones\n",
        "\n",
        "all_categ = df.groupby('Pet', observed=False).sum()\n",
        "print(all_categ)\n",
        "print()\n",
        "# to only include the observed categories\n",
        "\n",
        "grouped = df.groupby('Pet', observed=True).sum()\n",
        "\n",
        "print(grouped)"
      ],
      "metadata": {
        "colab": {
          "base_uri": "https://localhost:8080/"
        },
        "id": "VNBKNIWZzLIW",
        "outputId": "122aee41-bee5-44c0-80e7-e30bc4e7e8fd"
      },
      "execution_count": null,
      "outputs": [
        {
          "output_type": "stream",
          "name": "stdout",
          "text": [
            "       Pet  Max_Speed_kmh  Legs\n",
            "0      Dog             72     4\n",
            "1      Dog             25     4\n",
            "2      Cat             48     4\n",
            "3      Cat             30     4\n",
            "4   Rabbit             55     4\n",
            "5   Rabbit             20     4\n",
            "6  Hamster             10     4\n",
            "7  Hamster              8     4\n",
            "\n",
            "Categories with observed=False (default): Index(['Dog', 'Cat', 'Rabbit', 'Hamster', 'Horse'], dtype='object')\n",
            "         Max_Speed_kmh  Legs\n",
            "Pet                         \n",
            "Dog                 97     8\n",
            "Cat                 78     8\n",
            "Rabbit              75     8\n",
            "Hamster             18     8\n",
            "Horse                0     0\n",
            "\n",
            "         Max_Speed_kmh  Legs\n",
            "Pet                         \n",
            "Dog                 97     8\n",
            "Cat                 78     8\n",
            "Rabbit              75     8\n",
            "Hamster             18     8\n"
          ]
        }
      ]
    },
    {
      "cell_type": "code",
      "source": [
        "#8.\n",
        "import seaborn as sns\n",
        "\n",
        "#Load the Titanic dataset\n",
        "df = sns.load_dataset('titanic')\n",
        "\n",
        "# find null values in each column\n",
        "\n",
        "null_values = df.isnull().sum()\n",
        "#count them\n",
        "total = len(null_values)\n",
        "\n",
        "print('Missing values in each colun:')\n",
        "print(null_values)\n",
        "print()\n",
        "print('in total: ',total)"
      ],
      "metadata": {
        "colab": {
          "base_uri": "https://localhost:8080/"
        },
        "id": "5UMwzZ1U3iDm",
        "outputId": "285ef040-7378-4cbc-c799-817ffe620658"
      },
      "execution_count": null,
      "outputs": [
        {
          "output_type": "stream",
          "name": "stdout",
          "text": [
            "Missing values in each colun:\n",
            "survived         0\n",
            "pclass           0\n",
            "sex              0\n",
            "age            177\n",
            "sibsp            0\n",
            "parch            0\n",
            "fare             0\n",
            "embarked         2\n",
            "class            0\n",
            "who              0\n",
            "adult_male       0\n",
            "deck           688\n",
            "embark_town      2\n",
            "alive            0\n",
            "alone            0\n",
            "dtype: int64\n",
            "\n",
            "in total:  15\n"
          ]
        }
      ]
    },
    {
      "cell_type": "code",
      "source": [
        "#9.\n",
        "# to visualize the age distribution we need to import matplotlib first\n",
        "\n",
        "import matplotlib.pyplot as plt\n",
        "\n",
        "plt.figure(figsize=(10, 6))\n",
        "df['age'].hist(bins=30, color='skyblue', edgecolor='black')\n",
        "\n",
        "# to add labels and title\n",
        "\n",
        "plt.title('Age Distribution of Titanic Passengers', fontsize=16)\n",
        "plt.xlabel('Age (years)', fontsize=14)\n",
        "plt.ylabel('Number of Passengers', fontsize=14)\n",
        "\n",
        "plt.show()\n"
      ],
      "metadata": {
        "colab": {
          "base_uri": "https://localhost:8080/",
          "height": 435
        },
        "id": "bcJOYIMI54AF",
        "outputId": "dd2885d7-8bff-4eef-b0f3-569550f43655"
      },
      "execution_count": null,
      "outputs": [
        {
          "output_type": "display_data",
          "data": {
            "text/plain": [
              "<Figure size 1000x600 with 1 Axes>"
            ],
            "image/png": "[encoded data removed]"
          },
          "metadata": {}
        }
      ]
    },
    {
      "cell_type": "markdown",
      "source": [
        "Shapes observed:\n",
        "\n",
        "* The \"tail\" of the distribution extends further to the right (toward older ages)\n",
        "implies passengers were mostly in younger ages (20-35) -> right-skewed\n",
        "* the highest peak appears arround 20 to 30 years old\n",
        "\n",
        "the right-skew implies:\n",
        "\n",
        "* the mass population was young adults\n",
        "\n",
        "this is for the probable reason of\n",
        "* parents traveling with children\n",
        "* young adults seeking for job opportunities\n",
        "\n",
        "* the 'tail' of the distribution implies of older passengers fewer in number.\n",
        "\n",
        "these older passengers were likely to be wealthy families because of the affordability of the ticket cost is hard to save money for older people with dependent"
      ],
      "metadata": {
        "id": "OAIBgEXQ73Vd"
      }
    },
    {
      "cell_type": "markdown",
      "source": [
        "10.\n",
        "\n",
        "standard Deviation is a statistical operation that analyses how much the given data is spread out around the average(mean) taking the context of titanic dataset for example:\n",
        "* lower standard deviation - most ages are close to the mean(average)\n",
        "* higher standard deviation - ages are widely dispersed/ are far away from average(mean)"
      ],
      "metadata": {
        "id": "Sucuixh1AHRQ"
      }
    },
    {
      "cell_type": "markdown",
      "source": [
        "1. **Autonomus vehicles**\n",
        "\n",
        "camera sensors failing to label rare or unusual edge cases because of missing data\n",
        "for example teslas` autopilot may struggle with obscured road signs if training data lacks weather examples\n",
        "\n",
        "2. **surveying on customer services**\n",
        "\n",
        "due to the obvious fact that the happily satisfied customers are less likely to fill out surveys and unhappyly customers are more likely to fill out surveys, the data will be skewed toward the negative feedback making the service seem bad at the surveys because of the lack of diverse data.\n"
      ],
      "metadata": {
        "id": "ICTBGDdXCUEI"
      }
    }
  ]
}